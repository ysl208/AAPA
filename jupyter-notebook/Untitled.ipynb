{
 "cells": [
  {
   "cell_type": "code",
   "execution_count": 1,
   "metadata": {},
   "outputs": [],
   "source": [
    "class Log:\n",
    "    level = 0\n",
    "    \n",
    "    def __init__(self,level=0):\n",
    "        self.level = level\n",
    "        print(\"I'm a logger!\")\n",
    "    \n",
    "    def debug(self, msg):\n",
    "        if type(msg) == str:\n",
    "            print(msg)\n",
    "        elif type(msg) == list:\n",
    "            print(\" \".join(msg))\n",
    "        elif type(msg) == dict:\n",
    "            for k in msg:\n",
    "                print(f'{k}: {msg[k]}')\n",
    "        return\n",
    "    "
   ]
  },
  {
   "cell_type": "code",
   "execution_count": 4,
   "metadata": {},
   "outputs": [
    {
     "name": "stdout",
     "output_type": "stream",
     "text": [
      "I'm a logger!\n",
      "hi this\n",
      "a: 1\n"
     ]
    }
   ],
   "source": [
    "l = Log()\n",
    "l.debug([\"hi\",\"this\"])\n",
    "l.debug({'a':1})\n",
    "# \",\".join([\"hi\",\"this\"])"
   ]
  },
  {
   "cell_type": "code",
   "execution_count": 3,
   "metadata": {},
   "outputs": [
    {
     "name": "stdout",
     "output_type": "stream",
     "text": [
      "a: 1\n",
      "1: a\n"
     ]
    }
   ],
   "source": [
    "a = {'a':1, 1:\"a\"}\n",
    "l.debug(a)"
   ]
  },
  {
   "cell_type": "code",
   "execution_count": 44,
   "metadata": {},
   "outputs": [],
   "source": []
  },
  {
   "cell_type": "code",
   "execution_count": null,
   "metadata": {},
   "outputs": [],
   "source": []
  }
 ],
 "metadata": {
  "kernelspec": {
   "display_name": "Python 3",
   "language": "python",
   "name": "python3"
  },
  "language_info": {
   "codemirror_mode": {
    "name": "ipython",
    "version": 3
   },
   "file_extension": ".py",
   "mimetype": "text/x-python",
   "name": "python",
   "nbconvert_exporter": "python",
   "pygments_lexer": "ipython3",
   "version": "3.8.10"
  }
 },
 "nbformat": 4,
 "nbformat_minor": 4
}
